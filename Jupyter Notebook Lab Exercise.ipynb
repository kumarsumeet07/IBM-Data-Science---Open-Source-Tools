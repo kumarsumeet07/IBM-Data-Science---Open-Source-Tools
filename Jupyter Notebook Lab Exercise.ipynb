{
    "cells": [
        {
            "cell_type": "markdown",
            "metadata": {
                "collapsed": true
            },
            "source": "# My Jupyter Notebook on IBM Data Science Experience"
        },
        {
            "cell_type": "markdown",
            "metadata": {},
            "source": "**Sumeetkumar**\n\nData Science Student"
        },
        {
            "cell_type": "markdown",
            "metadata": {},
            "source": "*I am interested in Data Science because this fascinating field is rapidly developing and creating huge opportunities for our generation. I love using the latest and greatest technology. Whether that is hardware or software, I enjoy getting my hands on with these new technologies to see how that can enrich our lives.*"
        },
        {
            "cell_type": "markdown",
            "metadata": {},
            "source": "### Simple calculations:"
        },
        {
            "cell_type": "code",
            "execution_count": 5,
            "metadata": {},
            "outputs": [
                {
                    "data": {
                        "text/plain": "2"
                    },
                    "execution_count": 5,
                    "metadata": {},
                    "output_type": "execute_result"
                }
            ],
            "source": "1+1"
        },
        {
            "cell_type": "markdown",
            "metadata": {},
            "source": "Q6 Lab Exercise Sample:\n1. Bullet List A\n2. Bullet List B\n3. Bullet List C\n\n\n* Unordered Test A\n* Unordered Test B\n* Unordered Test C\n\n\n![alt text](https://github.com/adam-p/markdown-here/raw/master/src/common/images/icon48.png \"Logo Title Text 1\")\n![alt text][logo]\n\n[logo]: https://github.com/adam-p/markdown-here/raw/master/src/common/images/icon48.png \"Logo Title Text 2\"\n\n\nName | Type | Age\n--- | --- | ---\nJohn | A | 20\nJane | B | 20"
        }
    ],
    "metadata": {
        "kernelspec": {
            "display_name": "Python 3.6",
            "language": "python",
            "name": "python3"
        },
        "language_info": {
            "codemirror_mode": {
                "name": "ipython",
                "version": 3
            },
            "file_extension": ".py",
            "mimetype": "text/x-python",
            "name": "python",
            "nbconvert_exporter": "python",
            "pygments_lexer": "ipython3",
            "version": "3.6.9"
        }
    },
    "nbformat": 4,
    "nbformat_minor": 1
}
